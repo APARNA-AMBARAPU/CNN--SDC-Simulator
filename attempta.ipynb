{
  "nbformat": 4,
  "nbformat_minor": 0,
  "metadata": {
    "colab": {
      "name": "attempta.ipynb",
      "provenance": [],
      "collapsed_sections": []
    },
    "kernelspec": {
      "name": "python3",
      "display_name": "Python 3"
    },
    "accelerator": "GPU"
  },
  "cells": [
    {
      "cell_type": "code",
      "metadata": {
        "id": "5FvccxvQxK6s",
        "colab_type": "code",
        "outputId": "b85ad997-b77d-4cfd-9a89-de6c9233706d",
        "colab": {
          "base_uri": "https://localhost:8080/",
          "height": 34
        }
      },
      "source": [
        "! git clone https://github.com/APARNA-AMBARAPU/CNN--SDC-Simulator.git"
      ],
      "execution_count": 1,
      "outputs": [
        {
          "output_type": "stream",
          "text": [
            "fatal: destination path 'CNN--SDC-Simulator' already exists and is not an empty directory.\n"
          ],
          "name": "stdout"
        }
      ]
    },
    {
      "cell_type": "code",
      "metadata": {
        "id": "a18prIq9MHJq",
        "colab_type": "code",
        "outputId": "33d9ee82-b497-492a-b8c6-609d2abb3df5",
        "colab": {
          "base_uri": "https://localhost:8080/",
          "height": 34
        }
      },
      "source": [
        "! ls CNN--SDC-Simulator"
      ],
      "execution_count": 2,
      "outputs": [
        {
          "output_type": "stream",
          "text": [
            "drive.py  driving_log.csv  IMG\tREADME.md\n"
          ],
          "name": "stdout"
        }
      ]
    },
    {
      "cell_type": "code",
      "metadata": {
        "id": "ym0aJRTmMIjo",
        "colab_type": "code",
        "colab": {}
      },
      "source": [
        "import pandas as pd"
      ],
      "execution_count": 0,
      "outputs": []
    },
    {
      "cell_type": "code",
      "metadata": {
        "id": "Am_i_nE6MJJ6",
        "colab_type": "code",
        "colab": {}
      },
      "source": [
        "data = pd.read_csv('CNN--SDC-Simulator/driving_log.csv',names = ['center','left','right','steering','throttle','reverse','speed'])"
      ],
      "execution_count": 0,
      "outputs": []
    },
    {
      "cell_type": "code",
      "metadata": {
        "id": "56XguCjkMJMq",
        "colab_type": "code",
        "outputId": "f228994d-2310-4b4f-a33b-2e9317603993",
        "colab": {
          "base_uri": "https://localhost:8080/",
          "height": 252
        }
      },
      "source": [
        "data.info()"
      ],
      "execution_count": 5,
      "outputs": [
        {
          "output_type": "stream",
          "text": [
            "<class 'pandas.core.frame.DataFrame'>\n",
            "RangeIndex: 8222 entries, 0 to 8221\n",
            "Data columns (total 7 columns):\n",
            " #   Column    Non-Null Count  Dtype  \n",
            "---  ------    --------------  -----  \n",
            " 0   center    8222 non-null   object \n",
            " 1   left      8222 non-null   object \n",
            " 2   right     8222 non-null   object \n",
            " 3   steering  8222 non-null   float64\n",
            " 4   throttle  8222 non-null   float64\n",
            " 5   reverse   8222 non-null   float64\n",
            " 6   speed     8222 non-null   float64\n",
            "dtypes: float64(4), object(3)\n",
            "memory usage: 449.8+ KB\n"
          ],
          "name": "stdout"
        }
      ]
    },
    {
      "cell_type": "code",
      "metadata": {
        "id": "geUPS_a1MJPg",
        "colab_type": "code",
        "outputId": "2fd145ff-4c1d-4be3-f397-96f791720a44",
        "colab": {
          "base_uri": "https://localhost:8080/",
          "height": 195
        }
      },
      "source": [
        "data.head()"
      ],
      "execution_count": 6,
      "outputs": [
        {
          "output_type": "execute_result",
          "data": {
            "text/html": [
              "<div>\n",
              "<style scoped>\n",
              "    .dataframe tbody tr th:only-of-type {\n",
              "        vertical-align: middle;\n",
              "    }\n",
              "\n",
              "    .dataframe tbody tr th {\n",
              "        vertical-align: top;\n",
              "    }\n",
              "\n",
              "    .dataframe thead th {\n",
              "        text-align: right;\n",
              "    }\n",
              "</style>\n",
              "<table border=\"1\" class=\"dataframe\">\n",
              "  <thead>\n",
              "    <tr style=\"text-align: right;\">\n",
              "      <th></th>\n",
              "      <th>center</th>\n",
              "      <th>left</th>\n",
              "      <th>right</th>\n",
              "      <th>steering</th>\n",
              "      <th>throttle</th>\n",
              "      <th>reverse</th>\n",
              "      <th>speed</th>\n",
              "    </tr>\n",
              "  </thead>\n",
              "  <tbody>\n",
              "    <tr>\n",
              "      <th>0</th>\n",
              "      <td>C:\\Users\\Hari\\OneDrive\\Documents\\New folder\\IM...</td>\n",
              "      <td>C:\\Users\\Hari\\OneDrive\\Documents\\New folder\\IM...</td>\n",
              "      <td>C:\\Users\\Hari\\OneDrive\\Documents\\New folder\\IM...</td>\n",
              "      <td>0.0</td>\n",
              "      <td>0.0</td>\n",
              "      <td>0.0</td>\n",
              "      <td>2.431211e-07</td>\n",
              "    </tr>\n",
              "    <tr>\n",
              "      <th>1</th>\n",
              "      <td>C:\\Users\\Hari\\OneDrive\\Documents\\New folder\\IM...</td>\n",
              "      <td>C:\\Users\\Hari\\OneDrive\\Documents\\New folder\\IM...</td>\n",
              "      <td>C:\\Users\\Hari\\OneDrive\\Documents\\New folder\\IM...</td>\n",
              "      <td>0.0</td>\n",
              "      <td>0.0</td>\n",
              "      <td>0.0</td>\n",
              "      <td>7.316122e-06</td>\n",
              "    </tr>\n",
              "    <tr>\n",
              "      <th>2</th>\n",
              "      <td>C:\\Users\\Hari\\OneDrive\\Documents\\New folder\\IM...</td>\n",
              "      <td>C:\\Users\\Hari\\OneDrive\\Documents\\New folder\\IM...</td>\n",
              "      <td>C:\\Users\\Hari\\OneDrive\\Documents\\New folder\\IM...</td>\n",
              "      <td>0.0</td>\n",
              "      <td>0.0</td>\n",
              "      <td>0.0</td>\n",
              "      <td>2.573447e-06</td>\n",
              "    </tr>\n",
              "    <tr>\n",
              "      <th>3</th>\n",
              "      <td>C:\\Users\\Hari\\OneDrive\\Documents\\New folder\\IM...</td>\n",
              "      <td>C:\\Users\\Hari\\OneDrive\\Documents\\New folder\\IM...</td>\n",
              "      <td>C:\\Users\\Hari\\OneDrive\\Documents\\New folder\\IM...</td>\n",
              "      <td>0.0</td>\n",
              "      <td>0.0</td>\n",
              "      <td>0.0</td>\n",
              "      <td>4.271285e-06</td>\n",
              "    </tr>\n",
              "    <tr>\n",
              "      <th>4</th>\n",
              "      <td>C:\\Users\\Hari\\OneDrive\\Documents\\New folder\\IM...</td>\n",
              "      <td>C:\\Users\\Hari\\OneDrive\\Documents\\New folder\\IM...</td>\n",
              "      <td>C:\\Users\\Hari\\OneDrive\\Documents\\New folder\\IM...</td>\n",
              "      <td>0.0</td>\n",
              "      <td>0.0</td>\n",
              "      <td>0.0</td>\n",
              "      <td>1.345338e-05</td>\n",
              "    </tr>\n",
              "  </tbody>\n",
              "</table>\n",
              "</div>"
            ],
            "text/plain": [
              "                                              center  ...         speed\n",
              "0  C:\\Users\\Hari\\OneDrive\\Documents\\New folder\\IM...  ...  2.431211e-07\n",
              "1  C:\\Users\\Hari\\OneDrive\\Documents\\New folder\\IM...  ...  7.316122e-06\n",
              "2  C:\\Users\\Hari\\OneDrive\\Documents\\New folder\\IM...  ...  2.573447e-06\n",
              "3  C:\\Users\\Hari\\OneDrive\\Documents\\New folder\\IM...  ...  4.271285e-06\n",
              "4  C:\\Users\\Hari\\OneDrive\\Documents\\New folder\\IM...  ...  1.345338e-05\n",
              "\n",
              "[5 rows x 7 columns]"
            ]
          },
          "metadata": {
            "tags": []
          },
          "execution_count": 6
        }
      ]
    },
    {
      "cell_type": "code",
      "metadata": {
        "id": "eoEzEscVMJSg",
        "colab_type": "code",
        "outputId": "8b08c9c9-073b-4dd4-84f4-697278c044e1",
        "colab": {
          "base_uri": "https://localhost:8080/",
          "height": 195
        }
      },
      "source": [
        "data = data[['center','steering']]\n",
        "data.head()"
      ],
      "execution_count": 7,
      "outputs": [
        {
          "output_type": "execute_result",
          "data": {
            "text/html": [
              "<div>\n",
              "<style scoped>\n",
              "    .dataframe tbody tr th:only-of-type {\n",
              "        vertical-align: middle;\n",
              "    }\n",
              "\n",
              "    .dataframe tbody tr th {\n",
              "        vertical-align: top;\n",
              "    }\n",
              "\n",
              "    .dataframe thead th {\n",
              "        text-align: right;\n",
              "    }\n",
              "</style>\n",
              "<table border=\"1\" class=\"dataframe\">\n",
              "  <thead>\n",
              "    <tr style=\"text-align: right;\">\n",
              "      <th></th>\n",
              "      <th>center</th>\n",
              "      <th>steering</th>\n",
              "    </tr>\n",
              "  </thead>\n",
              "  <tbody>\n",
              "    <tr>\n",
              "      <th>0</th>\n",
              "      <td>C:\\Users\\Hari\\OneDrive\\Documents\\New folder\\IM...</td>\n",
              "      <td>0.0</td>\n",
              "    </tr>\n",
              "    <tr>\n",
              "      <th>1</th>\n",
              "      <td>C:\\Users\\Hari\\OneDrive\\Documents\\New folder\\IM...</td>\n",
              "      <td>0.0</td>\n",
              "    </tr>\n",
              "    <tr>\n",
              "      <th>2</th>\n",
              "      <td>C:\\Users\\Hari\\OneDrive\\Documents\\New folder\\IM...</td>\n",
              "      <td>0.0</td>\n",
              "    </tr>\n",
              "    <tr>\n",
              "      <th>3</th>\n",
              "      <td>C:\\Users\\Hari\\OneDrive\\Documents\\New folder\\IM...</td>\n",
              "      <td>0.0</td>\n",
              "    </tr>\n",
              "    <tr>\n",
              "      <th>4</th>\n",
              "      <td>C:\\Users\\Hari\\OneDrive\\Documents\\New folder\\IM...</td>\n",
              "      <td>0.0</td>\n",
              "    </tr>\n",
              "  </tbody>\n",
              "</table>\n",
              "</div>"
            ],
            "text/plain": [
              "                                              center  steering\n",
              "0  C:\\Users\\Hari\\OneDrive\\Documents\\New folder\\IM...       0.0\n",
              "1  C:\\Users\\Hari\\OneDrive\\Documents\\New folder\\IM...       0.0\n",
              "2  C:\\Users\\Hari\\OneDrive\\Documents\\New folder\\IM...       0.0\n",
              "3  C:\\Users\\Hari\\OneDrive\\Documents\\New folder\\IM...       0.0\n",
              "4  C:\\Users\\Hari\\OneDrive\\Documents\\New folder\\IM...       0.0"
            ]
          },
          "metadata": {
            "tags": []
          },
          "execution_count": 7
        }
      ]
    },
    {
      "cell_type": "code",
      "metadata": {
        "id": "MJrHFTo6MJUz",
        "colab_type": "code",
        "colab": {}
      },
      "source": [
        "import ntpath\n",
        "def change_path_name(path):\n",
        "  head,tail = ntpath.split(path)\n",
        "  return tail"
      ],
      "execution_count": 0,
      "outputs": []
    },
    {
      "cell_type": "code",
      "metadata": {
        "id": "wOS6UYS0MJX2",
        "colab_type": "code",
        "outputId": "eb292bdb-15ff-423e-e421-799304d05bc2",
        "colab": {
          "base_uri": "https://localhost:8080/",
          "height": 195
        }
      },
      "source": [
        "data['center'] = data['center'].apply(change_path_name)\n",
        "data.head()"
      ],
      "execution_count": 9,
      "outputs": [
        {
          "output_type": "execute_result",
          "data": {
            "text/html": [
              "<div>\n",
              "<style scoped>\n",
              "    .dataframe tbody tr th:only-of-type {\n",
              "        vertical-align: middle;\n",
              "    }\n",
              "\n",
              "    .dataframe tbody tr th {\n",
              "        vertical-align: top;\n",
              "    }\n",
              "\n",
              "    .dataframe thead th {\n",
              "        text-align: right;\n",
              "    }\n",
              "</style>\n",
              "<table border=\"1\" class=\"dataframe\">\n",
              "  <thead>\n",
              "    <tr style=\"text-align: right;\">\n",
              "      <th></th>\n",
              "      <th>center</th>\n",
              "      <th>steering</th>\n",
              "    </tr>\n",
              "  </thead>\n",
              "  <tbody>\n",
              "    <tr>\n",
              "      <th>0</th>\n",
              "      <td>center_2020_05_29_21_24_19_079.jpg</td>\n",
              "      <td>0.0</td>\n",
              "    </tr>\n",
              "    <tr>\n",
              "      <th>1</th>\n",
              "      <td>center_2020_05_29_21_24_19_148.jpg</td>\n",
              "      <td>0.0</td>\n",
              "    </tr>\n",
              "    <tr>\n",
              "      <th>2</th>\n",
              "      <td>center_2020_05_29_21_24_19_217.jpg</td>\n",
              "      <td>0.0</td>\n",
              "    </tr>\n",
              "    <tr>\n",
              "      <th>3</th>\n",
              "      <td>center_2020_05_29_21_24_19_293.jpg</td>\n",
              "      <td>0.0</td>\n",
              "    </tr>\n",
              "    <tr>\n",
              "      <th>4</th>\n",
              "      <td>center_2020_05_29_21_24_19_362.jpg</td>\n",
              "      <td>0.0</td>\n",
              "    </tr>\n",
              "  </tbody>\n",
              "</table>\n",
              "</div>"
            ],
            "text/plain": [
              "                               center  steering\n",
              "0  center_2020_05_29_21_24_19_079.jpg       0.0\n",
              "1  center_2020_05_29_21_24_19_148.jpg       0.0\n",
              "2  center_2020_05_29_21_24_19_217.jpg       0.0\n",
              "3  center_2020_05_29_21_24_19_293.jpg       0.0\n",
              "4  center_2020_05_29_21_24_19_362.jpg       0.0"
            ]
          },
          "metadata": {
            "tags": []
          },
          "execution_count": 9
        }
      ]
    },
    {
      "cell_type": "code",
      "metadata": {
        "id": "NK42HSE-MJZ8",
        "colab_type": "code",
        "colab": {}
      },
      "source": [
        "import numpy as np\n",
        "import matplotlib.pyplot as plt"
      ],
      "execution_count": 0,
      "outputs": []
    },
    {
      "cell_type": "code",
      "metadata": {
        "id": "onpGzg2oMJcz",
        "colab_type": "code",
        "outputId": "8058f1bf-3a3a-4ab0-877d-ed68cf2b0ff9",
        "colab": {
          "base_uri": "https://localhost:8080/",
          "height": 416
        }
      },
      "source": [
        "bins = np.linspace(-1,+1,25)\n",
        "plt.hist(data['steering'],bins,width = 0.05)\n"
      ],
      "execution_count": 11,
      "outputs": [
        {
          "output_type": "execute_result",
          "data": {
            "text/plain": [
              "(array([  32.,   13.,   15.,   12.,   28.,   46.,   36.,  104.,   58.,\n",
              "         135.,  152.,   62., 6864.,  136.,   88.,  133.,  121.,   40.,\n",
              "          50.,   36.,   13.,   16.,   11.,   21.]),\n",
              " array([-1.        , -0.91666667, -0.83333333, -0.75      , -0.66666667,\n",
              "        -0.58333333, -0.5       , -0.41666667, -0.33333333, -0.25      ,\n",
              "        -0.16666667, -0.08333333,  0.        ,  0.08333333,  0.16666667,\n",
              "         0.25      ,  0.33333333,  0.41666667,  0.5       ,  0.58333333,\n",
              "         0.66666667,  0.75      ,  0.83333333,  0.91666667,  1.        ]),\n",
              " <a list of 24 Patch objects>)"
            ]
          },
          "metadata": {
            "tags": []
          },
          "execution_count": 11
        },
        {
          "output_type": "display_data",
          "data": {
            "image/png": "[encoded data removed]",
            "text/plain": [
              "<Figure size 432x288 with 1 Axes>"
            ]
          },
          "metadata": {
            "tags": [],
            "needs_background": "light"
          }
        }
      ]
    },
    {
      "cell_type": "code",
      "metadata": {
        "id": "n9BYvixeMJfx",
        "colab_type": "code",
        "outputId": "0922e5fe-6cbe-425c-9381-9c74e896f9d6",
        "colab": {
          "base_uri": "https://localhost:8080/",
          "height": 282
        }
      },
      "source": [
        "sample_no_threshold = 200\n",
        "plt.hist(data['steering'],bins,width = 0.05)\n",
        "plt.plot([-1,1],[200,200])"
      ],
      "execution_count": 12,
      "outputs": [
        {
          "output_type": "execute_result",
          "data": {
            "text/plain": [
              "[<matplotlib.lines.Line2D at 0x7f8214869390>]"
            ]
          },
          "metadata": {
            "tags": []
          },
          "execution_count": 12
        },
        {
          "output_type": "display_data",
          "data": {
            "image/png": "[encoded data removed]",
            "text/plain": [
              "<Figure size 432x288 with 1 Axes>"
            ]
          },
          "metadata": {
            "tags": [],
            "needs_background": "light"
          }
        }
      ]
    },
    {
      "cell_type": "code",
      "metadata": {
        "id": "lznCAuehSxrB",
        "colab_type": "code",
        "colab": {}
      },
      "source": [
        "import random\n",
        "from sklearn.utils import shuffle"
      ],
      "execution_count": 0,
      "outputs": []
    },
    {
      "cell_type": "code",
      "metadata": {
        "id": "RHtZa1j8X-yv",
        "colab_type": "code",
        "outputId": "ca2a42dd-b3f1-4123-aa0b-635087ca63d0",
        "colab": {
          "base_uri": "https://localhost:8080/",
          "height": 101
        }
      },
      "source": [
        "bins"
      ],
      "execution_count": 14,
      "outputs": [
        {
          "output_type": "execute_result",
          "data": {
            "text/plain": [
              "array([-1.        , -0.91666667, -0.83333333, -0.75      , -0.66666667,\n",
              "       -0.58333333, -0.5       , -0.41666667, -0.33333333, -0.25      ,\n",
              "       -0.16666667, -0.08333333,  0.        ,  0.08333333,  0.16666667,\n",
              "        0.25      ,  0.33333333,  0.41666667,  0.5       ,  0.58333333,\n",
              "        0.66666667,  0.75      ,  0.83333333,  0.91666667,  1.        ])"
            ]
          },
          "metadata": {
            "tags": []
          },
          "execution_count": 14
        }
      ]
    },
    {
      "cell_type": "code",
      "metadata": {
        "id": "H2gUjLPmS7b0",
        "colab_type": "code",
        "colab": {}
      },
      "source": [
        "removed_lst = []\n",
        "for i in range(len(bins)-1):\n",
        "  lst = []\n",
        "  for j in range(len(data['steering'])):\n",
        "    if data['steering'][j] >= bins[i] and data['steering'][j] < bins[i+1]:\n",
        "      lst.append(j)\n",
        "  lst = shuffle(lst)\n",
        "  lst = lst[sample_no_threshold:]\n",
        "  removed_lst.extend(lst)"
      ],
      "execution_count": 0,
      "outputs": []
    },
    {
      "cell_type": "code",
      "metadata": {
        "id": "-7Yguz6PTEMw",
        "colab_type": "code",
        "outputId": "6ff44ddf-6c4b-43e2-e9b6-52b0a69af94d",
        "colab": {
          "base_uri": "https://localhost:8080/",
          "height": 34
        }
      },
      "source": [
        "data.drop(data.index[removed_lst],inplace=True)\n",
        "print('Length of Data',len(data))"
      ],
      "execution_count": 16,
      "outputs": [
        {
          "output_type": "stream",
          "text": [
            "Length of Data 1558\n"
          ],
          "name": "stdout"
        }
      ]
    },
    {
      "cell_type": "code",
      "metadata": {
        "id": "SibzokDDTeqS",
        "colab_type": "code",
        "outputId": "60a89f66-797a-46fe-fd70-e412c132a28f",
        "colab": {
          "base_uri": "https://localhost:8080/",
          "height": 282
        }
      },
      "source": [
        "plt.hist(data['steering'],bins,width = 0.05)\n",
        "plt.plot([-1,1],[200,200])"
      ],
      "execution_count": 17,
      "outputs": [
        {
          "output_type": "execute_result",
          "data": {
            "text/plain": [
              "[<matplotlib.lines.Line2D at 0x7f8209df8ef0>]"
            ]
          },
          "metadata": {
            "tags": []
          },
          "execution_count": 17
        },
        {
          "output_type": "display_data",
          "data": {
            "image/png": "[encoded data removed]",
            "text/plain": [
              "<Figure size 432x288 with 1 Axes>"
            ]
          },
          "metadata": {
            "tags": [],
            "needs_background": "light"
          }
        }
      ]
    },
    {
      "cell_type": "code",
      "metadata": {
        "id": "XIXGSCXzdtAv",
        "colab_type": "code",
        "colab": {}
      },
      "source": [
        ""
      ],
      "execution_count": 0,
      "outputs": []
    },
    {
      "cell_type": "code",
      "metadata": {
        "id": "Nh_jSBenTetB",
        "colab_type": "code",
        "colab": {}
      },
      "source": [
        "def dataset_image_load (data):\n",
        "  path_of_img = []\n",
        "  steer_ang = []\n",
        "  for i in range(len(data)):\n",
        "    df_row = data.iloc[i]\n",
        "    center = df_row[0]\n",
        "    path_of_img.append('CNN--SDC-Simulator/IMG/'+center)\n",
        "    steer_ang.append(df_row[1])\n",
        "  path_of_img = np.asarray(path_of_img)\n",
        "  steer_ang = np.asarray(steer_ang)\n",
        "  return path_of_img, steer_ang\n"
      ],
      "execution_count": 0,
      "outputs": []
    },
    {
      "cell_type": "code",
      "metadata": {
        "id": "oVtCbOqMTev7",
        "colab_type": "code",
        "colab": {}
      },
      "source": [
        "images_path,steering_angle = dataset_image_load(data)"
      ],
      "execution_count": 0,
      "outputs": []
    },
    {
      "cell_type": "code",
      "metadata": {
        "id": "J5D55MOBTeyS",
        "colab_type": "code",
        "outputId": "2c18f905-f528-4b86-9bb5-f536a04a05c9",
        "colab": {
          "base_uri": "https://localhost:8080/",
          "height": 50
        }
      },
      "source": [
        "print(len(images_path))\n",
        "print(len(steering_angle))"
      ],
      "execution_count": 20,
      "outputs": [
        {
          "output_type": "stream",
          "text": [
            "1558\n",
            "1558\n"
          ],
          "name": "stdout"
        }
      ]
    },
    {
      "cell_type": "code",
      "metadata": {
        "id": "IU0cXByfTe4O",
        "colab_type": "code",
        "colab": {}
      },
      "source": [
        "from sklearn.model_selection import train_test_split"
      ],
      "execution_count": 0,
      "outputs": []
    },
    {
      "cell_type": "code",
      "metadata": {
        "id": "mUcYtrBMTe1z",
        "colab_type": "code",
        "colab": {}
      },
      "source": [
        "X_train, X_val, y_train, y_val = train_test_split(images_path,steering_angle,test_size = 0.2,random_state = 2)"
      ],
      "execution_count": 0,
      "outputs": []
    },
    {
      "cell_type": "code",
      "metadata": {
        "id": "_ZsbKufBfiQ8",
        "colab_type": "code",
        "outputId": "e5bc53ce-e8e4-4119-c0cc-f1fc6f101407",
        "colab": {
          "base_uri": "https://localhost:8080/",
          "height": 84
        }
      },
      "source": [
        "print(X_train.shape)\n",
        "print(y_train.shape)\n",
        "print(X_val.shape)\n",
        "print(y_val.shape)"
      ],
      "execution_count": 23,
      "outputs": [
        {
          "output_type": "stream",
          "text": [
            "(1246,)\n",
            "(1246,)\n",
            "(312,)\n",
            "(312,)\n"
          ],
          "name": "stdout"
        }
      ]
    },
    {
      "cell_type": "code",
      "metadata": {
        "id": "1OoM0UxCf6tm",
        "colab_type": "code",
        "outputId": "8aa53c4f-4b49-4c8d-e416-aeb66fbf106a",
        "colab": {
          "base_uri": "https://localhost:8080/",
          "height": 398
        }
      },
      "source": [
        " fig,axes = plt.subplots(1,2,figsize = (10,5))\n",
        " fig.tight_layout()\n",
        "\n",
        " axes[0].hist(y_train,bins,width = 0.05)\n",
        " axes[0].set_title('Training Dataset')\n",
        "\n",
        " axes[1].hist(y_val,bins,width = 0.05)\n",
        " axes[1].set_title('Validation Dataset')"
      ],
      "execution_count": 24,
      "outputs": [
        {
          "output_type": "execute_result",
          "data": {
            "text/plain": [
              "Text(0.5, 1.0, 'Validation Dataset')"
            ]
          },
          "metadata": {
            "tags": []
          },
          "execution_count": 24
        },
        {
          "output_type": "display_data",
          "data": {
            "image/png": "[encoded data removed]",
            "text/plain": [
              "<Figure size 720x360 with 2 Axes>"
            ]
          },
          "metadata": {
            "tags": [],
            "needs_background": "light"
          }
        }
      ]
    },
    {
      "cell_type": "code",
      "metadata": {
        "id": "8Gk90W2NrYzB",
        "colab_type": "code",
        "colab": {}
      },
      "source": [
        "import cv2\n",
        "import matplotlib.image as mpimg"
      ],
      "execution_count": 0,
      "outputs": []
    },
    {
      "cell_type": "code",
      "metadata": {
        "id": "nCtlEOKFsCL3",
        "colab_type": "code",
        "colab": {}
      },
      "source": [
        "def preprocess(image):\n",
        "  img = mpimg.imread(image)\n",
        "  img = img[60:140,:,:]\n",
        "  img=  cv2.cvtColor(img,cv2.COLOR_BGR2YUV)\n",
        "  img = cv2.GaussianBlur(img,(3,3),0)\n",
        "  img = cv2.resize(img,(200,66))\n",
        "  img = img/255\n",
        "  return img\n"
      ],
      "execution_count": 0,
      "outputs": []
    },
    {
      "cell_type": "code",
      "metadata": {
        "id": "567KQPdlsmyv",
        "colab_type": "code",
        "colab": {}
      },
      "source": [
        "X_train = np.array(list(map(preprocess,X_train)))\n",
        "X_val = np.array(list(map(preprocess,X_val)))"
      ],
      "execution_count": 0,
      "outputs": []
    },
    {
      "cell_type": "code",
      "metadata": {
        "id": "dnd6U4mIs7PX",
        "colab_type": "code",
        "outputId": "89776621-2b9c-4c4a-9e68-ad351ca66160",
        "colab": {
          "base_uri": "https://localhost:8080/",
          "height": 624
        }
      },
      "source": [
        "fig,axes = plt.subplots(2,1,figsize = (15,10))\n",
        "r = random.randint(0,len(X_val))\n",
        "axes[0].imshow(X_train[r])\n",
        "axes[0].set_title('Image from training dataset')\n",
        "axes[1].imshow(X_val[r])\n",
        "axes[1].set_title('Image from Validation dataset')"
      ],
      "execution_count": 28,
      "outputs": [
        {
          "output_type": "execute_result",
          "data": {
            "text/plain": [
              "Text(0.5, 1.0, 'Image from Validation dataset')"
            ]
          },
          "metadata": {
            "tags": []
          },
          "execution_count": 28
        },
        {
          "output_type": "display_data",
          "data": {
            "image/png": "[encoded data removed]",
            "text/plain": [
              "<Figure size 1080x720 with 2 Axes>"
            ]
          },
          "metadata": {
            "tags": [],
            "needs_background": "light"
          }
        }
      ]
    },
    {
      "cell_type": "code",
      "metadata": {
        "id": "buruN5AFtVPk",
        "colab_type": "code",
        "outputId": "4f872fa9-8a99-428b-984d-0e4a17f9d176",
        "colab": {
          "base_uri": "https://localhost:8080/",
          "height": 50
        }
      },
      "source": [
        "print(X_train.shape)\n",
        "print(X_val.shape)"
      ],
      "execution_count": 29,
      "outputs": [
        {
          "output_type": "stream",
          "text": [
            "(1246, 66, 200, 3)\n",
            "(312, 66, 200, 3)\n"
          ],
          "name": "stdout"
        }
      ]
    },
    {
      "cell_type": "code",
      "metadata": {
        "id": "Ntoz31bVuBIA",
        "colab_type": "code",
        "outputId": "3e80399b-2e52-4cb5-c0f3-9272dfe5fc5c",
        "colab": {
          "base_uri": "https://localhost:8080/",
          "height": 34
        }
      },
      "source": [
        "from keras.models import Sequential\n",
        "from keras.layers import Convolution2D, Dropout, Flatten, Dense\n",
        "from keras.optimizers import Adam"
      ],
      "execution_count": 30,
      "outputs": [
        {
          "output_type": "stream",
          "text": [
            "Using TensorFlow backend.\n"
          ],
          "name": "stderr"
        }
      ]
    },
    {
      "cell_type": "code",
      "metadata": {
        "id": "kRNp7dFXt0b-",
        "colab_type": "code",
        "colab": {}
      },
      "source": [
        "def nvidia_model1():\n",
        "  model = Sequential()\n",
        "  model.add(Convolution2D(24,(5,5),strides = (2,2),activation = 'relu',input_shape = (66,200,3)))\n",
        "  model.add(Convolution2D(36,(5,5),strides=(2,2),activation = 'relu'))\n",
        "  model.add(Convolution2D(48,(5,5),strides=(2,2),activation = 'relu'))\n",
        "  model.add(Convolution2D(64,(3,3),activation = 'relu'))\n",
        "  model.add(Convolution2D(64,(3,3),activation = 'relu'))\n",
        "  model.add(Dropout(0.5))\n",
        "\n",
        "  model.add(Flatten())\n",
        "  model.add(Dense(100,activation = 'relu'))\n",
        "  model.add(Dropout(0.5))\n",
        "\n",
        "  model.add(Dense(50,activation = 'relu'))\n",
        "  model.add(Dense(10,activation = 'relu'))\n",
        "  model.add(Dense(1))\n",
        "\n",
        "  optimizer = Adam(lr = 0.001)\n",
        "  model.compile(loss= 'mse',optimizer = optimizer)\n",
        "  \n",
        "  return model"
      ],
      "execution_count": 0,
      "outputs": []
    },
    {
      "cell_type": "code",
      "metadata": {
        "id": "BhaBIMOst7fa",
        "colab_type": "code",
        "outputId": "d7adb2d8-e1fb-4603-fe69-a71b6a9c8d27",
        "colab": {
          "base_uri": "https://localhost:8080/",
          "height": 554
        }
      },
      "source": [
        "model1 = nvidia_model1()\n",
        "model1.summary()"
      ],
      "execution_count": 32,
      "outputs": [
        {
          "output_type": "stream",
          "text": [
            "Model: \"sequential_1\"\n",
            "_________________________________________________________________\n",
            "Layer (type)                 Output Shape              Param #   \n",
            "=================================================================\n",
            "conv2d_1 (Conv2D)            (None, 31, 98, 24)        1824      \n",
            "_________________________________________________________________\n",
            "conv2d_2 (Conv2D)            (None, 14, 47, 36)        21636     \n",
            "_________________________________________________________________\n",
            "conv2d_3 (Conv2D)            (None, 5, 22, 48)         43248     \n",
            "_________________________________________________________________\n",
            "conv2d_4 (Conv2D)            (None, 3, 20, 64)         27712     \n",
            "_________________________________________________________________\n",
            "conv2d_5 (Conv2D)            (None, 1, 18, 64)         36928     \n",
            "_________________________________________________________________\n",
            "dropout_1 (Dropout)          (None, 1, 18, 64)         0         \n",
            "_________________________________________________________________\n",
            "flatten_1 (Flatten)          (None, 1152)              0         \n",
            "_________________________________________________________________\n",
            "dense_1 (Dense)              (None, 100)               115300    \n",
            "_________________________________________________________________\n",
            "dropout_2 (Dropout)          (None, 100)               0         \n",
            "_________________________________________________________________\n",
            "dense_2 (Dense)              (None, 50)                5050      \n",
            "_________________________________________________________________\n",
            "dense_3 (Dense)              (None, 10)                510       \n",
            "_________________________________________________________________\n",
            "dense_4 (Dense)              (None, 1)                 11        \n",
            "=================================================================\n",
            "Total params: 252,219\n",
            "Trainable params: 252,219\n",
            "Non-trainable params: 0\n",
            "_________________________________________________________________\n"
          ],
          "name": "stdout"
        }
      ]
    },
    {
      "cell_type": "code",
      "metadata": {
        "id": "stlyD_Nyt_HG",
        "colab_type": "code",
        "outputId": "eba98059-01a8-4723-995f-8bdc90c99d77",
        "colab": {
          "base_uri": "https://localhost:8080/",
          "height": 1000
        }
      },
      "source": [
        "history1 = model1.fit(X_train,y_train, validation_data=[X_val,y_val],batch_size = 100,epochs = 30, shuffle = 1,verbose = 1)"
      ],
      "execution_count": 33,
      "outputs": [
        {
          "output_type": "stream",
          "text": [
            "Train on 1246 samples, validate on 312 samples\n",
            "Epoch 1/30\n",
            "1246/1246 [==============================] - 3s 3ms/step - loss: 0.1463 - val_loss: 0.1617\n",
            "Epoch 2/30\n",
            "1246/1246 [==============================] - 0s 328us/step - loss: 0.1436 - val_loss: 0.1544\n",
            "Epoch 3/30\n",
            "1246/1246 [==============================] - 0s 328us/step - loss: 0.1352 - val_loss: 0.1163\n",
            "Epoch 4/30\n",
            "1246/1246 [==============================] - 0s 333us/step - loss: 0.1168 - val_loss: 0.1100\n",
            "Epoch 5/30\n",
            "1246/1246 [==============================] - 0s 327us/step - loss: 0.0976 - val_loss: 0.0895\n",
            "Epoch 6/30\n",
            "1246/1246 [==============================] - 0s 332us/step - loss: 0.0842 - val_loss: 0.0688\n",
            "Epoch 7/30\n",
            "1246/1246 [==============================] - 0s 336us/step - loss: 0.0714 - val_loss: 0.0634\n",
            "Epoch 8/30\n",
            "1246/1246 [==============================] - 0s 341us/step - loss: 0.0602 - val_loss: 0.0673\n",
            "Epoch 9/30\n",
            "1246/1246 [==============================] - 0s 340us/step - loss: 0.0600 - val_loss: 0.0610\n",
            "Epoch 10/30\n",
            "1246/1246 [==============================] - 0s 334us/step - loss: 0.0576 - val_loss: 0.0626\n",
            "Epoch 11/30\n",
            "1246/1246 [==============================] - 0s 345us/step - loss: 0.0581 - val_loss: 0.0635\n",
            "Epoch 12/30\n",
            "1246/1246 [==============================] - 0s 335us/step - loss: 0.0547 - val_loss: 0.0619\n",
            "Epoch 13/30\n",
            "1246/1246 [==============================] - 0s 332us/step - loss: 0.0544 - val_loss: 0.0602\n",
            "Epoch 14/30\n",
            "1246/1246 [==============================] - 0s 341us/step - loss: 0.0522 - val_loss: 0.0597\n",
            "Epoch 15/30\n",
            "1246/1246 [==============================] - 0s 332us/step - loss: 0.0544 - val_loss: 0.0607\n",
            "Epoch 16/30\n",
            "1246/1246 [==============================] - 0s 341us/step - loss: 0.0560 - val_loss: 0.0575\n",
            "Epoch 17/30\n",
            "1246/1246 [==============================] - 0s 335us/step - loss: 0.0543 - val_loss: 0.0600\n",
            "Epoch 18/30\n",
            "1246/1246 [==============================] - 0s 342us/step - loss: 0.0540 - val_loss: 0.0604\n",
            "Epoch 19/30\n",
            "1246/1246 [==============================] - 0s 347us/step - loss: 0.0529 - val_loss: 0.0609\n",
            "Epoch 20/30\n",
            "1246/1246 [==============================] - 0s 336us/step - loss: 0.0510 - val_loss: 0.0604\n",
            "Epoch 21/30\n",
            "1246/1246 [==============================] - 0s 339us/step - loss: 0.0509 - val_loss: 0.0579\n",
            "Epoch 22/30\n",
            "1246/1246 [==============================] - 0s 331us/step - loss: 0.0478 - val_loss: 0.0584\n",
            "Epoch 23/30\n",
            "1246/1246 [==============================] - 0s 340us/step - loss: 0.0506 - val_loss: 0.0576\n",
            "Epoch 24/30\n",
            "1246/1246 [==============================] - 0s 330us/step - loss: 0.0498 - val_loss: 0.0575\n",
            "Epoch 25/30\n",
            "1246/1246 [==============================] - 0s 330us/step - loss: 0.0482 - val_loss: 0.0564\n",
            "Epoch 26/30\n",
            "1246/1246 [==============================] - 0s 337us/step - loss: 0.0467 - val_loss: 0.0547\n",
            "Epoch 27/30\n",
            "1246/1246 [==============================] - 0s 336us/step - loss: 0.0478 - val_loss: 0.0566\n",
            "Epoch 28/30\n",
            "1246/1246 [==============================] - 0s 344us/step - loss: 0.0464 - val_loss: 0.0551\n",
            "Epoch 29/30\n",
            "1246/1246 [==============================] - 0s 337us/step - loss: 0.0467 - val_loss: 0.0571\n",
            "Epoch 30/30\n",
            "1246/1246 [==============================] - 0s 329us/step - loss: 0.0458 - val_loss: 0.0563\n"
          ],
          "name": "stdout"
        }
      ]
    },
    {
      "cell_type": "code",
      "metadata": {
        "id": "ci9Hpv7nuhP0",
        "colab_type": "code",
        "outputId": "821c18d3-07cb-453a-ae33-4dceb8d1c50b",
        "colab": {
          "base_uri": "https://localhost:8080/",
          "height": 984
        }
      },
      "source": [
        "loss = history1.history['loss']\n",
        "val_loss = history1.history['val_loss']\n",
        "\n",
        "plt.plot(loss)\n",
        "plt.plot(val_loss)\n",
        "plt.legend('Training loss','validation loss')\n",
        "plt.xlabel('epoch')\n",
        "plt.title('LOSS')"
      ],
      "execution_count": 34,
      "outputs": [
        {
          "output_type": "stream",
          "text": [
            "/usr/local/lib/python3.6/dist-packages/ipykernel_launcher.py:6: UserWarning: Legend does not support 'T' instances.\n",
            "A proxy artist may be used instead.\n",
            "See: http://matplotlib.org/users/legend_guide.html#creating-artists-specifically-for-adding-to-the-legend-aka-proxy-artists\n",
            "  \n",
            "/usr/local/lib/python3.6/dist-packages/ipykernel_launcher.py:6: UserWarning: Legend does not support 'r' instances.\n",
            "A proxy artist may be used instead.\n",
            "See: http://matplotlib.org/users/legend_guide.html#creating-artists-specifically-for-adding-to-the-legend-aka-proxy-artists\n",
            "  \n",
            "/usr/local/lib/python3.6/dist-packages/ipykernel_launcher.py:6: UserWarning: Legend does not support 'a' instances.\n",
            "A proxy artist may be used instead.\n",
            "See: http://matplotlib.org/users/legend_guide.html#creating-artists-specifically-for-adding-to-the-legend-aka-proxy-artists\n",
            "  \n",
            "/usr/local/lib/python3.6/dist-packages/ipykernel_launcher.py:6: UserWarning: Legend does not support 'i' instances.\n",
            "A proxy artist may be used instead.\n",
            "See: http://matplotlib.org/users/legend_guide.html#creating-artists-specifically-for-adding-to-the-legend-aka-proxy-artists\n",
            "  \n",
            "/usr/local/lib/python3.6/dist-packages/ipykernel_launcher.py:6: UserWarning: Legend does not support 'n' instances.\n",
            "A proxy artist may be used instead.\n",
            "See: http://matplotlib.org/users/legend_guide.html#creating-artists-specifically-for-adding-to-the-legend-aka-proxy-artists\n",
            "  \n",
            "/usr/local/lib/python3.6/dist-packages/ipykernel_launcher.py:6: UserWarning: Legend does not support 'g' instances.\n",
            "A proxy artist may be used instead.\n",
            "See: http://matplotlib.org/users/legend_guide.html#creating-artists-specifically-for-adding-to-the-legend-aka-proxy-artists\n",
            "  \n",
            "/usr/local/lib/python3.6/dist-packages/ipykernel_launcher.py:6: UserWarning: Legend does not support ' ' instances.\n",
            "A proxy artist may be used instead.\n",
            "See: http://matplotlib.org/users/legend_guide.html#creating-artists-specifically-for-adding-to-the-legend-aka-proxy-artists\n",
            "  \n",
            "/usr/local/lib/python3.6/dist-packages/ipykernel_launcher.py:6: UserWarning: Legend does not support 'l' instances.\n",
            "A proxy artist may be used instead.\n",
            "See: http://matplotlib.org/users/legend_guide.html#creating-artists-specifically-for-adding-to-the-legend-aka-proxy-artists\n",
            "  \n",
            "/usr/local/lib/python3.6/dist-packages/ipykernel_launcher.py:6: UserWarning: Legend does not support 'o' instances.\n",
            "A proxy artist may be used instead.\n",
            "See: http://matplotlib.org/users/legend_guide.html#creating-artists-specifically-for-adding-to-the-legend-aka-proxy-artists\n",
            "  \n",
            "/usr/local/lib/python3.6/dist-packages/ipykernel_launcher.py:6: UserWarning: Legend does not support 's' instances.\n",
            "A proxy artist may be used instead.\n",
            "See: http://matplotlib.org/users/legend_guide.html#creating-artists-specifically-for-adding-to-the-legend-aka-proxy-artists\n",
            "  \n"
          ],
          "name": "stderr"
        },
        {
          "output_type": "execute_result",
          "data": {
            "text/plain": [
              "Text(0.5, 1.0, 'LOSS')"
            ]
          },
          "metadata": {
            "tags": []
          },
          "execution_count": 34
        },
        {
          "output_type": "display_data",
          "data": {
            "image/png": "[encoded data removed]",
            "text/plain": [
              "<Figure size 432x288 with 1 Axes>"
            ]
          },
          "metadata": {
            "tags": [],
            "needs_background": "light"
          }
        }
      ]
    },
    {
      "cell_type": "code",
      "metadata": {
        "id": "YbQ6Dl52vi80",
        "colab_type": "code",
        "colab": {}
      },
      "source": [
        "def nvidia_model2():\n",
        "  model = Sequential()\n",
        "  model.add(Convolution2D(24,(5,5),strides = (2,2),activation = 'elu',input_shape = (66,200,3)))\n",
        "  model.add(Convolution2D(36,(5,5),strides=(2,2),activation = 'elu'))\n",
        "  model.add(Convolution2D(48,(5,5),strides=(2,2),activation = 'elu'))\n",
        "  model.add(Convolution2D(64,(3,3),activation = 'elu'))\n",
        "  model.add(Convolution2D(64,(3,3),activation = 'elu'))\n",
        "  model.add(Dropout(0.5))\n",
        "\n",
        "  model.add(Flatten())\n",
        "  model.add(Dense(100,activation = 'elu'))\n",
        "  model.add(Dropout(0.5))\n",
        "\n",
        "  model.add(Dense(50,activation = 'elu'))\n",
        "  model.add(Dropout(0.5))\n",
        "\n",
        "  model.add(Dense(10,activation = 'elu'))\n",
        "  model.add(Dropout(0.5))\n",
        "  model.add(Dense(1))\n",
        "\n",
        "  optimizer = Adam(lr = 0.001)\n",
        "  model.compile(loss= 'mse',optimizer = optimizer)\n",
        "  \n",
        "  return model"
      ],
      "execution_count": 0,
      "outputs": []
    },
    {
      "cell_type": "code",
      "metadata": {
        "id": "zDNWopsWxle1",
        "colab_type": "code",
        "outputId": "59259bfc-6533-47ba-ac53-459bfd776d6a",
        "colab": {
          "base_uri": "https://localhost:8080/",
          "height": 622
        }
      },
      "source": [
        "model2 = nvidia_model2()\n",
        "model2.summary()"
      ],
      "execution_count": 36,
      "outputs": [
        {
          "output_type": "stream",
          "text": [
            "Model: \"sequential_2\"\n",
            "_________________________________________________________________\n",
            "Layer (type)                 Output Shape              Param #   \n",
            "=================================================================\n",
            "conv2d_6 (Conv2D)            (None, 31, 98, 24)        1824      \n",
            "_________________________________________________________________\n",
            "conv2d_7 (Conv2D)            (None, 14, 47, 36)        21636     \n",
            "_________________________________________________________________\n",
            "conv2d_8 (Conv2D)            (None, 5, 22, 48)         43248     \n",
            "_________________________________________________________________\n",
            "conv2d_9 (Conv2D)            (None, 3, 20, 64)         27712     \n",
            "_________________________________________________________________\n",
            "conv2d_10 (Conv2D)           (None, 1, 18, 64)         36928     \n",
            "_________________________________________________________________\n",
            "dropout_3 (Dropout)          (None, 1, 18, 64)         0         \n",
            "_________________________________________________________________\n",
            "flatten_2 (Flatten)          (None, 1152)              0         \n",
            "_________________________________________________________________\n",
            "dense_5 (Dense)              (None, 100)               115300    \n",
            "_________________________________________________________________\n",
            "dropout_4 (Dropout)          (None, 100)               0         \n",
            "_________________________________________________________________\n",
            "dense_6 (Dense)              (None, 50)                5050      \n",
            "_________________________________________________________________\n",
            "dropout_5 (Dropout)          (None, 50)                0         \n",
            "_________________________________________________________________\n",
            "dense_7 (Dense)              (None, 10)                510       \n",
            "_________________________________________________________________\n",
            "dropout_6 (Dropout)          (None, 10)                0         \n",
            "_________________________________________________________________\n",
            "dense_8 (Dense)              (None, 1)                 11        \n",
            "=================================================================\n",
            "Total params: 252,219\n",
            "Trainable params: 252,219\n",
            "Non-trainable params: 0\n",
            "_________________________________________________________________\n"
          ],
          "name": "stdout"
        }
      ]
    },
    {
      "cell_type": "code",
      "metadata": {
        "id": "tndHGAfUXzRu",
        "colab_type": "code",
        "outputId": "f7e62d47-6ab8-4bc0-ce4a-26b8ca2163cf",
        "colab": {
          "base_uri": "https://localhost:8080/",
          "height": 1000
        }
      },
      "source": [
        "h2 = model2.fit(X_train,y_train, validation_data=[X_val,y_val],epochs = 30,verbose = 1, batch_size = 100, shuffle=1)"
      ],
      "execution_count": 37,
      "outputs": [
        {
          "output_type": "stream",
          "text": [
            "Train on 1246 samples, validate on 312 samples\n",
            "Epoch 1/30\n",
            "1246/1246 [==============================] - 1s 657us/step - loss: 0.7112 - val_loss: 0.1635\n",
            "Epoch 2/30\n",
            "1246/1246 [==============================] - 0s 363us/step - loss: 0.2208 - val_loss: 0.1402\n",
            "Epoch 3/30\n",
            "1246/1246 [==============================] - 0s 344us/step - loss: 0.1734 - val_loss: 0.1340\n",
            "Epoch 4/30\n",
            "1246/1246 [==============================] - 0s 341us/step - loss: 0.1512 - val_loss: 0.1301\n",
            "Epoch 5/30\n",
            "1246/1246 [==============================] - 0s 339us/step - loss: 0.1344 - val_loss: 0.1102\n",
            "Epoch 6/30\n",
            "1246/1246 [==============================] - 0s 340us/step - loss: 0.1243 - val_loss: 0.1016\n",
            "Epoch 7/30\n",
            "1246/1246 [==============================] - 0s 339us/step - loss: 0.1157 - val_loss: 0.1045\n",
            "Epoch 8/30\n",
            "1246/1246 [==============================] - 0s 337us/step - loss: 0.1134 - val_loss: 0.0943\n",
            "Epoch 9/30\n",
            "1246/1246 [==============================] - 0s 343us/step - loss: 0.1095 - val_loss: 0.0889\n",
            "Epoch 10/30\n",
            "1246/1246 [==============================] - 0s 337us/step - loss: 0.1085 - val_loss: 0.0973\n",
            "Epoch 11/30\n",
            "1246/1246 [==============================] - 0s 342us/step - loss: 0.0993 - val_loss: 0.0855\n",
            "Epoch 12/30\n",
            "1246/1246 [==============================] - 0s 335us/step - loss: 0.1032 - val_loss: 0.0915\n",
            "Epoch 13/30\n",
            "1246/1246 [==============================] - 0s 335us/step - loss: 0.1030 - val_loss: 0.0852\n",
            "Epoch 14/30\n",
            "1246/1246 [==============================] - 0s 336us/step - loss: 0.0938 - val_loss: 0.0844\n",
            "Epoch 15/30\n",
            "1246/1246 [==============================] - 0s 330us/step - loss: 0.0934 - val_loss: 0.0844\n",
            "Epoch 16/30\n",
            "1246/1246 [==============================] - 0s 343us/step - loss: 0.0910 - val_loss: 0.0825\n",
            "Epoch 17/30\n",
            "1246/1246 [==============================] - 0s 336us/step - loss: 0.0913 - val_loss: 0.0821\n",
            "Epoch 18/30\n",
            "1246/1246 [==============================] - 0s 341us/step - loss: 0.0965 - val_loss: 0.0813\n",
            "Epoch 19/30\n",
            "1246/1246 [==============================] - 0s 337us/step - loss: 0.0930 - val_loss: 0.0783\n",
            "Epoch 20/30\n",
            "1246/1246 [==============================] - 0s 331us/step - loss: 0.0931 - val_loss: 0.0817\n",
            "Epoch 21/30\n",
            "1246/1246 [==============================] - 0s 340us/step - loss: 0.0923 - val_loss: 0.0856\n",
            "Epoch 22/30\n",
            "1246/1246 [==============================] - 0s 330us/step - loss: 0.0902 - val_loss: 0.0822\n",
            "Epoch 23/30\n",
            "1246/1246 [==============================] - 0s 340us/step - loss: 0.0850 - val_loss: 0.0767\n",
            "Epoch 24/30\n",
            "1246/1246 [==============================] - 0s 332us/step - loss: 0.0866 - val_loss: 0.0817\n",
            "Epoch 25/30\n",
            "1246/1246 [==============================] - 0s 329us/step - loss: 0.0790 - val_loss: 0.0768\n",
            "Epoch 26/30\n",
            "1246/1246 [==============================] - 0s 343us/step - loss: 0.0819 - val_loss: 0.0808\n",
            "Epoch 27/30\n",
            "1246/1246 [==============================] - 0s 333us/step - loss: 0.0809 - val_loss: 0.0812\n",
            "Epoch 28/30\n",
            "1246/1246 [==============================] - 0s 337us/step - loss: 0.0846 - val_loss: 0.0836\n",
            "Epoch 29/30\n",
            "1246/1246 [==============================] - 0s 332us/step - loss: 0.0769 - val_loss: 0.0788\n",
            "Epoch 30/30\n",
            "1246/1246 [==============================] - 0s 336us/step - loss: 0.0720 - val_loss: 0.0833\n"
          ],
          "name": "stdout"
        }
      ]
    },
    {
      "cell_type": "code",
      "metadata": {
        "id": "x_dGjC52XzVH",
        "colab_type": "code",
        "outputId": "64cd1c2f-cde0-4247-adcf-40e026ce733e",
        "colab": {
          "base_uri": "https://localhost:8080/",
          "height": 715
        }
      },
      "source": [
        "loss2 = h2.history['loss']\n",
        "val_loss2 = h2.history['val_loss']\n",
        "plt.plot(loss2)\n",
        "plt.plot(val_loss2)\n",
        "plt.legend('training','validation')\n",
        "plt.title('LOSS')\n",
        "plt.xlabel('epoch')"
      ],
      "execution_count": 38,
      "outputs": [
        {
          "output_type": "stream",
          "text": [
            "/usr/local/lib/python3.6/dist-packages/ipykernel_launcher.py:5: UserWarning: Legend does not support 't' instances.\n",
            "A proxy artist may be used instead.\n",
            "See: http://matplotlib.org/users/legend_guide.html#creating-artists-specifically-for-adding-to-the-legend-aka-proxy-artists\n",
            "  \"\"\"\n",
            "/usr/local/lib/python3.6/dist-packages/ipykernel_launcher.py:5: UserWarning: Legend does not support 'r' instances.\n",
            "A proxy artist may be used instead.\n",
            "See: http://matplotlib.org/users/legend_guide.html#creating-artists-specifically-for-adding-to-the-legend-aka-proxy-artists\n",
            "  \"\"\"\n",
            "/usr/local/lib/python3.6/dist-packages/ipykernel_launcher.py:5: UserWarning: Legend does not support 'a' instances.\n",
            "A proxy artist may be used instead.\n",
            "See: http://matplotlib.org/users/legend_guide.html#creating-artists-specifically-for-adding-to-the-legend-aka-proxy-artists\n",
            "  \"\"\"\n",
            "/usr/local/lib/python3.6/dist-packages/ipykernel_launcher.py:5: UserWarning: Legend does not support 'i' instances.\n",
            "A proxy artist may be used instead.\n",
            "See: http://matplotlib.org/users/legend_guide.html#creating-artists-specifically-for-adding-to-the-legend-aka-proxy-artists\n",
            "  \"\"\"\n",
            "/usr/local/lib/python3.6/dist-packages/ipykernel_launcher.py:5: UserWarning: Legend does not support 'n' instances.\n",
            "A proxy artist may be used instead.\n",
            "See: http://matplotlib.org/users/legend_guide.html#creating-artists-specifically-for-adding-to-the-legend-aka-proxy-artists\n",
            "  \"\"\"\n",
            "/usr/local/lib/python3.6/dist-packages/ipykernel_launcher.py:5: UserWarning: Legend does not support 'g' instances.\n",
            "A proxy artist may be used instead.\n",
            "See: http://matplotlib.org/users/legend_guide.html#creating-artists-specifically-for-adding-to-the-legend-aka-proxy-artists\n",
            "  \"\"\"\n"
          ],
          "name": "stderr"
        },
        {
          "output_type": "execute_result",
          "data": {
            "text/plain": [
              "Text(0.5, 0, 'epoch')"
            ]
          },
          "metadata": {
            "tags": []
          },
          "execution_count": 38
        },
        {
          "output_type": "display_data",
          "data": {
            "image/png": "[encoded data removed]",
            "text/plain": [
              "<Figure size 432x288 with 1 Axes>"
            ]
          },
          "metadata": {
            "tags": [],
            "needs_background": "light"
          }
        }
      ]
    },
    {
      "cell_type": "code",
      "metadata": {
        "id": "Mn-ul8XMXzYF",
        "colab_type": "code",
        "colab": {}
      },
      "source": [
        "model2.save('model2.h5')"
      ],
      "execution_count": 0,
      "outputs": []
    },
    {
      "cell_type": "code",
      "metadata": {
        "id": "5o7-VCOYXzai",
        "colab_type": "code",
        "colab": {}
      },
      "source": [
        "from google.colab import files\n",
        "files.download('model2.h5')"
      ],
      "execution_count": 0,
      "outputs": []
    },
    {
      "cell_type": "markdown",
      "metadata": {
        "id": "rXoJjkLgx4YJ",
        "colab_type": "text"
      },
      "source": [
        "The 'model2.h5' performed poorly on the training track and didnot generalise well to the testing track."
      ]
    },
    {
      "cell_type": "code",
      "metadata": {
        "id": "XG3BrU9SyEbA",
        "colab_type": "code",
        "colab": {}
      },
      "source": [
        ""
      ],
      "execution_count": 0,
      "outputs": []
    }
  ]
}